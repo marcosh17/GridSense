{
 "cells": [
  {
   "cell_type": "markdown",
   "id": "747b6ba4",
   "metadata": {},
   "source": [
    "# Notebook 3 – Model Training"
   ]
  },
  {
   "cell_type": "markdown",
   "id": "c8b8a4b1",
   "metadata": {},
   "source": [
    "## 1. Load processed data"
   ]
  },
  {
   "cell_type": "code",
   "execution_count": 1,
   "id": "64405b59",
   "metadata": {},
   "outputs": [
    {
     "name": "stdout",
     "output_type": "stream",
     "text": [
      "✅ Data loaded. Shape: (7293312, 11)\n"
     ]
    }
   ],
   "source": [
    "import pandas as pd\n",
    "import numpy as np\n",
    "import lightgbm as lgb\n",
    "from pathlib import Path\n",
    "from sklearn.metrics import mean_squared_error, r2_score, mean_absolute_error\n",
    "from sklearn.preprocessing import OrdinalEncoder\n",
    "import joblib\n",
    "\n",
    "# Load data\n",
    "current_dir = Path().resolve()\n",
    "root = current_dir.parents[1]\n",
    "\n",
    "data_dir = root / 'data' / 'processed'\n",
    "df = pd.read_parquet(data_dir / 'merged_openmeteo_pvgis.parquet')\n",
    "\n",
    "print(\"✅ Data loaded. Shape:\", df.shape)\n"
   ]
  },
  {
   "cell_type": "markdown",
   "id": "ced8e8b0",
   "metadata": {},
   "source": [
    "## 1. Define features and target"
   ]
  },
  {
   "cell_type": "code",
   "execution_count": 2,
   "id": "a61b460d",
   "metadata": {},
   "outputs": [],
   "source": [
    "target = 'global_irradiance_W_m2'\n",
    "\n",
    "features = [\n",
    "    'temperature_2m',\n",
    "    'cloudcover',\n",
    "    'windspeed_10m',\n",
    "    'winddirection_10m',\n",
    "    'shortwave_radiation',\n",
    "    'direct_radiation',\n",
    "    'diffuse_radiation',\n",
    "    'cloud_cover',\n",
    "    'city'  # Include city as feature\n",
    "]\n"
   ]
  },
  {
   "cell_type": "markdown",
   "id": "be75add9",
   "metadata": {},
   "source": [
    "## 2. Encode city as categorical feature"
   ]
  },
  {
   "cell_type": "code",
   "execution_count": 3,
   "id": "1d6e0c16",
   "metadata": {},
   "outputs": [],
   "source": [
    "encoder = OrdinalEncoder()\n",
    "df['city_encoded'] = encoder.fit_transform(df[['city']])\n",
    "\n",
    "# Replace city string by numeric in features list\n",
    "features = [f for f in features if f != 'city'] + ['city_encoded']"
   ]
  },
  {
   "cell_type": "markdown",
   "id": "96aa4edf",
   "metadata": {},
   "source": [
    "## 3. Split train/validation by city (70-30 per city)"
   ]
  },
  {
   "cell_type": "code",
   "execution_count": 4,
   "id": "5804b16a",
   "metadata": {},
   "outputs": [
    {
     "name": "stdout",
     "output_type": "stream",
     "text": [
      "✅ Train shape: (5105308, 12)\n",
      "✅ Validation shape: (2188004, 12)\n"
     ]
    }
   ],
   "source": [
    "train_list = []\n",
    "val_list = []\n",
    "\n",
    "for city in df['city'].unique():\n",
    "    df_city = df[df['city'] == city]\n",
    "    train_city = df_city.sample(frac=0.7, random_state=42)\n",
    "    val_city = df_city.drop(train_city.index)\n",
    "    \n",
    "    train_list.append(train_city)\n",
    "    val_list.append(val_city)\n",
    "\n",
    "df_train = pd.concat(train_list)\n",
    "df_val = pd.concat(val_list)\n",
    "\n",
    "print(\"✅ Train shape:\", df_train.shape)\n",
    "print(\"✅ Validation shape:\", df_val.shape)"
   ]
  },
  {
   "cell_type": "markdown",
   "id": "c48e10ba",
   "metadata": {},
   "source": [
    "## 4.  Prepare LightGBM datasets"
   ]
  },
  {
   "cell_type": "code",
   "execution_count": 5,
   "id": "d60f07ed",
   "metadata": {},
   "outputs": [],
   "source": [
    "X_train = df_train[features]\n",
    "y_train = df_train[target]\n",
    "\n",
    "X_val = df_val[features]\n",
    "y_val = df_val[target]\n",
    "\n",
    "train_data = lgb.Dataset(X_train, label=y_train)\n",
    "val_data = lgb.Dataset(X_val, label=y_val)"
   ]
  },
  {
   "cell_type": "markdown",
   "id": "99d679f3",
   "metadata": {},
   "source": [
    "## 5. Train LightGBM model"
   ]
  },
  {
   "cell_type": "code",
   "execution_count": 7,
   "id": "3c076a90",
   "metadata": {},
   "outputs": [
    {
     "name": "stderr",
     "output_type": "stream",
     "text": [
      "  0%|          | 0/500 [01:24<?, ?it/s]\n"
     ]
    },
    {
     "name": "stdout",
     "output_type": "stream",
     "text": [
      "Training until validation scores don't improve for 20 rounds\n"
     ]
    },
    {
     "name": "stderr",
     "output_type": "stream",
     "text": []
    },
    {
     "name": "stdout",
     "output_type": "stream",
     "text": [
      "[50]\ttraining's rmse: 222.96\tvalid_1's rmse: 223.001\n"
     ]
    },
    {
     "name": "stderr",
     "output_type": "stream",
     "text": []
    },
    {
     "name": "stdout",
     "output_type": "stream",
     "text": [
      "[100]\ttraining's rmse: 218.259\tvalid_1's rmse: 218.347\n"
     ]
    },
    {
     "name": "stderr",
     "output_type": "stream",
     "text": []
    },
    {
     "name": "stdout",
     "output_type": "stream",
     "text": [
      "[150]\ttraining's rmse: 216.096\tvalid_1's rmse: 216.24\n"
     ]
    },
    {
     "name": "stderr",
     "output_type": "stream",
     "text": []
    },
    {
     "name": "stdout",
     "output_type": "stream",
     "text": [
      "[200]\ttraining's rmse: 214.642\tvalid_1's rmse: 214.834\n"
     ]
    },
    {
     "name": "stderr",
     "output_type": "stream",
     "text": []
    },
    {
     "name": "stdout",
     "output_type": "stream",
     "text": [
      "[250]\ttraining's rmse: 213.438\tvalid_1's rmse: 213.665\n"
     ]
    },
    {
     "name": "stderr",
     "output_type": "stream",
     "text": []
    },
    {
     "name": "stdout",
     "output_type": "stream",
     "text": [
      "[300]\ttraining's rmse: 212.681\tvalid_1's rmse: 212.944\n"
     ]
    },
    {
     "name": "stderr",
     "output_type": "stream",
     "text": []
    },
    {
     "name": "stdout",
     "output_type": "stream",
     "text": [
      "[350]\ttraining's rmse: 211.91\tvalid_1's rmse: 212.207\n"
     ]
    },
    {
     "name": "stderr",
     "output_type": "stream",
     "text": []
    },
    {
     "name": "stdout",
     "output_type": "stream",
     "text": [
      "[400]\ttraining's rmse: 211.136\tvalid_1's rmse: 211.47\n"
     ]
    },
    {
     "name": "stderr",
     "output_type": "stream",
     "text": []
    },
    {
     "name": "stdout",
     "output_type": "stream",
     "text": [
      "[450]\ttraining's rmse: 210.373\tvalid_1's rmse: 210.749\n"
     ]
    },
    {
     "name": "stderr",
     "output_type": "stream",
     "text": [
      "100%|██████████| 500/500 [01:10<00:00,  7.14it/s]"
     ]
    },
    {
     "name": "stdout",
     "output_type": "stream",
     "text": [
      "[500]\ttraining's rmse: 209.564\tvalid_1's rmse: 209.973\n",
      "Did not meet early stopping. Best iteration is:\n",
      "[500]\ttraining's rmse: 209.564\tvalid_1's rmse: 209.973\n"
     ]
    },
    {
     "name": "stderr",
     "output_type": "stream",
     "text": [
      "\n"
     ]
    }
   ],
   "source": [
    "# params = {\n",
    "#     \"objective\": \"regression\",\n",
    "#     \"metric\": \"rmse\",\n",
    "#     \"boosting_type\": \"gbdt\",\n",
    "#     \"verbosity\": -1,\n",
    "#     \"learning_rate\": 0.05,\n",
    "#     \"num_leaves\": 31,\n",
    "#     \"max_depth\": 8,\n",
    "#     \"n_jobs\": -1\n",
    "# }\n",
    "\n",
    "# model = lgb.train(\n",
    "#     params,\n",
    "#     train_data,\n",
    "#     valid_sets=[train_data, val_data],\n",
    "#     num_boost_round=500,\n",
    "#     early_stopping_rounds=20,\n",
    "#     verbose_eval=50\n",
    "# )\n",
    "\n",
    "\n",
    "import lightgbm as lgb\n",
    "from tqdm import tqdm\n",
    "\n",
    "params = {\n",
    "    \"objective\": \"regression\",\n",
    "    \"metric\": \"rmse\",\n",
    "    \"boosting_type\": \"gbdt\",\n",
    "    \"verbosity\": -1,\n",
    "    \"learning_rate\": 0.05,\n",
    "    \"num_leaves\": 31,\n",
    "    \"max_depth\": 8,\n",
    "    \"n_jobs\": -1\n",
    "}\n",
    "\n",
    "num_boost_round = 500\n",
    "\n",
    "# Crear barra de progreso\n",
    "pbar = tqdm(total=num_boost_round)\n",
    "\n",
    "# Callback personalizado para tqdm\n",
    "def tqdm_callback(env):\n",
    "    if env.iteration % 10 == 0 or env.iteration == num_boost_round:\n",
    "        pbar.update(10)\n",
    "\n",
    "# Entrenamiento con callbacks\n",
    "model = lgb.train(\n",
    "    params,\n",
    "    train_data,\n",
    "    valid_sets=[train_data, val_data],\n",
    "    num_boost_round=num_boost_round,\n",
    "    callbacks=[\n",
    "        tqdm_callback,\n",
    "        lgb.early_stopping(stopping_rounds=20),\n",
    "        lgb.log_evaluation(period=50)\n",
    "    ]\n",
    ")\n",
    "\n",
    "pbar.close()\n",
    "\n"
   ]
  },
  {
   "cell_type": "markdown",
   "id": "afddf904",
   "metadata": {},
   "source": [
    "## 6. Evaluate model"
   ]
  },
  {
   "cell_type": "code",
   "execution_count": 9,
   "id": "2ee6e606",
   "metadata": {},
   "outputs": [
    {
     "name": "stdout",
     "output_type": "stream",
     "text": [
      "RMSE: 209.97\n",
      "MAE: 144.38\n",
      "R2 Score: 0.59\n"
     ]
    }
   ],
   "source": [
    "from sklearn.metrics import mean_squared_error, mean_absolute_error, r2_score\n",
    "import numpy as np\n",
    "\n",
    "y_pred = model.predict(X_val)\n",
    "\n",
    "rmse = np.sqrt(mean_squared_error(y_val, y_pred))\n",
    "mae = mean_absolute_error(y_val, y_pred)\n",
    "r2 = r2_score(y_val, y_pred)\n",
    "\n",
    "print(f\"RMSE: {rmse:.2f}\")\n",
    "print(f\"MAE: {mae:.2f}\")\n",
    "print(f\"R2 Score: {r2:.2f}\")\n",
    "\n"
   ]
  }
 ],
 "metadata": {
  "kernelspec": {
   "display_name": "venv",
   "language": "python",
   "name": "python3"
  },
  "language_info": {
   "codemirror_mode": {
    "name": "ipython",
    "version": 3
   },
   "file_extension": ".py",
   "mimetype": "text/x-python",
   "name": "python",
   "nbconvert_exporter": "python",
   "pygments_lexer": "ipython3",
   "version": "3.12.6"
  }
 },
 "nbformat": 4,
 "nbformat_minor": 5
}
