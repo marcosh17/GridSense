{
 "cells": [
  {
   "cell_type": "markdown",
   "id": "24ab121c",
   "metadata": {},
   "source": [
    "# Notebook 1 - Preprocessing & Integrity Checks"
   ]
  },
  {
   "cell_type": "markdown",
   "id": "17b67dbd",
   "metadata": {},
   "source": [
    "# 0. Import libraries and load data"
   ]
  },
  {
   "cell_type": "code",
   "execution_count": 33,
   "id": "f55c4b53",
   "metadata": {},
   "outputs": [],
   "source": [
    "import pandas as pd\n",
    "from pathlib import Path\n",
    "\n",
    "current_dir = Path().resolve()\n",
    "root = current_dir.parents[1]  # Sube de notebooks/ a GridSense/\n",
    "\n",
    "data_dir = root / 'data' / 'raw_data'\n",
    "\n",
    "df_openmeteo = pd.read_csv(data_dir / 'openmeteo_all_cities.csv', parse_dates=['time'])\n",
    "df_pvgis = pd.read_csv(data_dir / 'pvgis_all_cities.csv', parse_dates=['time'])\n",
    "\n",
    "\n"
   ]
  },
  {
   "cell_type": "markdown",
   "id": "25b1e622",
   "metadata": {},
   "source": [
    "# 1. Check dimensions and columns"
   ]
  },
  {
   "cell_type": "code",
   "execution_count": 34,
   "id": "35460dd8",
   "metadata": {},
   "outputs": [
    {
     "name": "stdout",
     "output_type": "stream",
     "text": [
      "Open-Meteo shape: (7293312, 10)\n",
      "PVGIS shape: (7293312, 3)\n",
      "Open-Meteo columns: ['time', 'temperature_2m', 'cloudcover', 'windspeed_10m', 'winddirection_10m', 'shortwave_radiation', 'direct_radiation', 'diffuse_radiation', 'cloud_cover', 'city']\n",
      "PVGIS columns: ['time', 'global_irradiance_W_m2', 'city']\n"
     ]
    }
   ],
   "source": [
    "print(\"Open-Meteo shape:\", df_openmeteo.shape)\n",
    "print(\"PVGIS shape:\", df_pvgis.shape)\n",
    "\n",
    "print(\"Open-Meteo columns:\", df_openmeteo.columns.tolist())\n",
    "print(\"PVGIS columns:\", df_pvgis.columns.tolist())"
   ]
  },
  {
   "cell_type": "markdown",
   "id": "c6c86090",
   "metadata": {},
   "source": [
    "# 2. Check for duplicates"
   ]
  },
  {
   "cell_type": "code",
   "execution_count": 35,
   "id": "c212d1b2",
   "metadata": {},
   "outputs": [
    {
     "name": "stdout",
     "output_type": "stream",
     "text": [
      "Duplicados Open-Meteo: 0\n",
      "Duplicados PVGIS: 0\n"
     ]
    }
   ],
   "source": [
    "print(\"Duplicados Open-Meteo:\", df_openmeteo.duplicated(subset=[\"time\", \"city\"]).sum())\n",
    "print(\"Duplicados PVGIS:\", df_pvgis.duplicated(subset=[\"time\", \"city\"]).sum())\n"
   ]
  },
  {
   "cell_type": "markdown",
   "id": "e14627af",
   "metadata": {},
   "source": [
    "# 3. Check for missing values"
   ]
  },
  {
   "cell_type": "code",
   "execution_count": 36,
   "id": "bf57c58a",
   "metadata": {},
   "outputs": [
    {
     "name": "stdout",
     "output_type": "stream",
     "text": [
      "Missing values in Open-Meteo (%):\n",
      " time                   0.0\n",
      "temperature_2m         0.0\n",
      "cloudcover             0.0\n",
      "windspeed_10m          0.0\n",
      "winddirection_10m      0.0\n",
      "shortwave_radiation    0.0\n",
      "direct_radiation       0.0\n",
      "diffuse_radiation      0.0\n",
      "cloud_cover            0.0\n",
      "city                   0.0\n",
      "dtype: float64\n",
      "\n",
      "Missing values in PVGIS (%):\n",
      " time                      0.0\n",
      "global_irradiance_W_m2    0.0\n",
      "city                      0.0\n",
      "dtype: float64\n"
     ]
    }
   ],
   "source": [
    "print(\"Missing values in Open-Meteo (%):\\n\", df_openmeteo.isnull().mean() * 100)\n",
    "print(\"\\nMissing values in PVGIS (%):\\n\", df_pvgis.isnull().mean() * 100)\n"
   ]
  },
  {
   "cell_type": "markdown",
   "id": "e955b752",
   "metadata": {},
   "source": [
    "# 4. Verify time coverage"
   ]
  },
  {
   "cell_type": "code",
   "execution_count": 37,
   "id": "61dd1d59",
   "metadata": {},
   "outputs": [
    {
     "name": "stdout",
     "output_type": "stream",
     "text": [
      "Open-Meteo time range: 2005-01-01 00:00:00 - 2020-12-31 23:00:00\n",
      "PVGIS time range: 2005-01-01 00:00:00 - 2020-12-31 23:00:00\n"
     ]
    }
   ],
   "source": [
    "# Align PVGIS time to the start of the hour\n",
    "df_pvgis['time'] = pd.to_datetime(df_pvgis['time']) - pd.to_timedelta(9, unit='m')\n",
    "df_pvgis['time'] = df_pvgis['time'].dt.floor('h')\n",
    "\n",
    "# Clip PVGIS time to match Open-Meteo range\n",
    "min_time = df_openmeteo['time'].min()\n",
    "max_time = df_openmeteo['time'].max()\n",
    "\n",
    "df_pvgis = df_pvgis[(df_pvgis['time'] >= min_time) & (df_pvgis['time'] <= max_time)]\n",
    "\n",
    "# Print new ranges\n",
    "print(\"Open-Meteo time range:\", df_openmeteo['time'].min(), \"-\", df_openmeteo['time'].max())\n",
    "print(\"PVGIS time range:\", df_pvgis['time'].min(), \"-\", df_pvgis['time'].max())\n",
    "\n",
    "\n",
    "\n"
   ]
  },
  {
   "cell_type": "markdown",
   "id": "bb756d19",
   "metadata": {},
   "source": [
    "# 5. Check temporal consistency (missing timestamps)"
   ]
  },
  {
   "cell_type": "code",
   "execution_count": 38,
   "id": "4ad26538",
   "metadata": {},
   "outputs": [
    {
     "name": "stderr",
     "output_type": "stream",
     "text": [
      "C:\\Users\\mmarc\\AppData\\Local\\Temp\\ipykernel_7360\\449978571.py:5: FutureWarning: 'H' is deprecated and will be removed in a future version, please use 'h' instead.\n",
      "  expected = pd.date_range(df_city.index.min(), df_city.index.max(), freq='H')\n"
     ]
    },
    {
     "name": "stdout",
     "output_type": "stream",
     "text": [
      "alava: 0 missing hours in Open-Meteo.\n",
      "albacete: 0 missing hours in Open-Meteo.\n",
      "alicante: 0 missing hours in Open-Meteo.\n",
      "almeria: 0 missing hours in Open-Meteo.\n",
      "asturias: 0 missing hours in Open-Meteo.\n",
      "avila: 0 missing hours in Open-Meteo.\n",
      "badajoz: 0 missing hours in Open-Meteo.\n",
      "barcelona: 0 missing hours in Open-Meteo.\n",
      "burgos: 0 missing hours in Open-Meteo.\n",
      "caceres: 0 missing hours in Open-Meteo.\n",
      "cadiz: 0 missing hours in Open-Meteo.\n",
      "cantabria: 0 missing hours in Open-Meteo.\n",
      "castellon: 0 missing hours in Open-Meteo.\n",
      "ceuta: 0 missing hours in Open-Meteo.\n",
      "ciudad_real: 0 missing hours in Open-Meteo.\n",
      "cordoba: 0 missing hours in Open-Meteo.\n",
      "cuenca: 0 missing hours in Open-Meteo.\n",
      "girona: 0 missing hours in Open-Meteo.\n",
      "granada: 0 missing hours in Open-Meteo.\n",
      "guadalajara: 0 missing hours in Open-Meteo.\n",
      "guipuzcoa: 0 missing hours in Open-Meteo.\n",
      "huelva: 0 missing hours in Open-Meteo.\n",
      "huesca: 0 missing hours in Open-Meteo.\n",
      "illes_balears: 0 missing hours in Open-Meteo.\n",
      "jaen: 0 missing hours in Open-Meteo.\n",
      "la_coruna: 0 missing hours in Open-Meteo.\n",
      "la_rioja: 0 missing hours in Open-Meteo.\n",
      "las_palmas: 0 missing hours in Open-Meteo.\n",
      "leon: 0 missing hours in Open-Meteo.\n",
      "lleida: 0 missing hours in Open-Meteo.\n",
      "lugo: 0 missing hours in Open-Meteo.\n",
      "madrid: 0 missing hours in Open-Meteo.\n",
      "malaga: 0 missing hours in Open-Meteo.\n",
      "melilla: 0 missing hours in Open-Meteo.\n",
      "murcia: 0 missing hours in Open-Meteo.\n",
      "navarra: 0 missing hours in Open-Meteo.\n",
      "ourense: 0 missing hours in Open-Meteo.\n",
      "palencia: 0 missing hours in Open-Meteo.\n",
      "pontevedra: 0 missing hours in Open-Meteo.\n",
      "salamanca: 0 missing hours in Open-Meteo.\n",
      "segovia: 0 missing hours in Open-Meteo.\n",
      "sevilla: 0 missing hours in Open-Meteo.\n",
      "soria: 0 missing hours in Open-Meteo.\n",
      "tarragona: 0 missing hours in Open-Meteo.\n",
      "tenerife: 0 missing hours in Open-Meteo.\n",
      "teruel: 0 missing hours in Open-Meteo.\n",
      "toledo: 0 missing hours in Open-Meteo.\n",
      "valencia: 0 missing hours in Open-Meteo.\n",
      "valladolid: 0 missing hours in Open-Meteo.\n",
      "vizcaya: 0 missing hours in Open-Meteo.\n",
      "zamora: 0 missing hours in Open-Meteo.\n",
      "zaragoza: 0 missing hours in Open-Meteo.\n"
     ]
    }
   ],
   "source": [
    "cities = df_openmeteo['city'].unique()\n",
    "\n",
    "for city in cities:\n",
    "    df_city = df_openmeteo[df_openmeteo['city'] == city].set_index('time').sort_index()\n",
    "    expected = pd.date_range(df_city.index.min(), df_city.index.max(), freq='H')\n",
    "    missing = expected.difference(df_city.index)\n",
    "    print(f\"{city}: {len(missing)} missing hours in Open-Meteo.\")\n"
   ]
  },
  {
   "cell_type": "markdown",
   "id": "a4018ff0",
   "metadata": {},
   "source": [
    "# 6. Count rows per city"
   ]
  },
  {
   "cell_type": "code",
   "execution_count": 39,
   "id": "9198c562",
   "metadata": {},
   "outputs": [
    {
     "name": "stdout",
     "output_type": "stream",
     "text": [
      "Rows per city in Open-Meteo:\n",
      " city\n",
      "alava            140256\n",
      "albacete         140256\n",
      "alicante         140256\n",
      "almeria          140256\n",
      "asturias         140256\n",
      "avila            140256\n",
      "badajoz          140256\n",
      "barcelona        140256\n",
      "burgos           140256\n",
      "caceres          140256\n",
      "cadiz            140256\n",
      "cantabria        140256\n",
      "castellon        140256\n",
      "ceuta            140256\n",
      "ciudad_real      140256\n",
      "cordoba          140256\n",
      "cuenca           140256\n",
      "girona           140256\n",
      "granada          140256\n",
      "guadalajara      140256\n",
      "guipuzcoa        140256\n",
      "huelva           140256\n",
      "huesca           140256\n",
      "illes_balears    140256\n",
      "jaen             140256\n",
      "la_coruna        140256\n",
      "la_rioja         140256\n",
      "las_palmas       140256\n",
      "leon             140256\n",
      "lleida           140256\n",
      "lugo             140256\n",
      "madrid           140256\n",
      "malaga           140256\n",
      "melilla          140256\n",
      "murcia           140256\n",
      "navarra          140256\n",
      "ourense          140256\n",
      "palencia         140256\n",
      "pontevedra       140256\n",
      "salamanca        140256\n",
      "segovia          140256\n",
      "sevilla          140256\n",
      "soria            140256\n",
      "tarragona        140256\n",
      "tenerife         140256\n",
      "teruel           140256\n",
      "toledo           140256\n",
      "valencia         140256\n",
      "valladolid       140256\n",
      "vizcaya          140256\n",
      "zamora           140256\n",
      "zaragoza         140256\n",
      "Name: count, dtype: int64\n",
      "\n",
      "Rows per city in PVGIS:\n",
      " city\n",
      "alava            140256\n",
      "albacete         140256\n",
      "alicante         140256\n",
      "almeria          140256\n",
      "asturias         140256\n",
      "avila            140256\n",
      "badajoz          140256\n",
      "barcelona        140256\n",
      "burgos           140256\n",
      "caceres          140256\n",
      "cadiz            140256\n",
      "cantabria        140256\n",
      "castellon        140256\n",
      "ceuta            140256\n",
      "ciudad_real      140256\n",
      "cordoba          140256\n",
      "cuenca           140256\n",
      "girona           140256\n",
      "granada          140256\n",
      "guadalajara      140256\n",
      "guipuzcoa        140256\n",
      "huelva           140256\n",
      "huesca           140256\n",
      "illes_balears    140256\n",
      "jaen             140256\n",
      "la_coruna        140256\n",
      "la_rioja         140256\n",
      "las_palmas       140256\n",
      "leon             140256\n",
      "lleida           140256\n",
      "lugo             140256\n",
      "madrid           140256\n",
      "malaga           140256\n",
      "melilla          140256\n",
      "murcia           140256\n",
      "navarra          140256\n",
      "ourense          140256\n",
      "palencia         140256\n",
      "pontevedra       140256\n",
      "salamanca        140256\n",
      "segovia          140256\n",
      "sevilla          140256\n",
      "soria            140256\n",
      "tarragona        140256\n",
      "tenerife         140256\n",
      "teruel           140256\n",
      "toledo           140256\n",
      "valencia         140256\n",
      "valladolid       140256\n",
      "vizcaya          140256\n",
      "zamora           140256\n",
      "zaragoza         140256\n",
      "Name: count, dtype: int64\n"
     ]
    }
   ],
   "source": [
    "print(\"Rows per city in Open-Meteo:\\n\", df_openmeteo['city'].value_counts())\n",
    "print(\"\\nRows per city in PVGIS:\\n\", df_pvgis['city'].value_counts())"
   ]
  },
  {
   "cell_type": "markdown",
   "id": "0ed23986",
   "metadata": {},
   "source": [
    "# 7. Merge Open-Meteo and PVGIS datasets"
   ]
  },
  {
   "cell_type": "code",
   "execution_count": 40,
   "id": "8d95cd5f",
   "metadata": {},
   "outputs": [
    {
     "name": "stdout",
     "output_type": "stream",
     "text": [
      "Merged dataset shape: (7293312, 11)\n"
     ]
    }
   ],
   "source": [
    "df_merged = pd.merge(df_openmeteo, df_pvgis, on=[\"time\", \"city\"], how=\"inner\")\n",
    "\n",
    "print(\"Merged dataset shape:\", df_merged.shape)\n"
   ]
  },
  {
   "cell_type": "markdown",
   "id": "d1d95145",
   "metadata": {},
   "source": [
    "# 8. Save processed datasets"
   ]
  },
  {
   "cell_type": "code",
   "execution_count": 43,
   "id": "eaeda59e",
   "metadata": {},
   "outputs": [
    {
     "name": "stdout",
     "output_type": "stream",
     "text": [
      "✅ Clean datasets saved as both Parquet and CSV in data/processed/\n"
     ]
    }
   ],
   "source": [
    "# Define processed data path\n",
    "processed_dir = root / 'data' / 'processed'\n",
    "processed_dir.mkdir(parents=True, exist_ok=True)\n",
    "\n",
    "# Export Open-Meteo clean dataset\n",
    "df_openmeteo_clean = df_openmeteo.drop_duplicates(subset=[\"time\", \"city\"])\n",
    "df_openmeteo_clean.to_parquet(processed_dir / 'openmeteo_clean.parquet')\n",
    "df_openmeteo_clean.to_csv(processed_dir / 'openmeteo_clean.csv', index=False)\n",
    "\n",
    "# Export PVGIS clean dataset\n",
    "df_pvgis_clean = df_pvgis.drop_duplicates(subset=[\"time\", \"city\"])\n",
    "df_pvgis_clean.to_parquet(processed_dir / 'pvgis_clean.parquet')\n",
    "df_pvgis_clean.to_csv(processed_dir / 'pvgis_clean.csv', index=False)\n",
    "\n",
    "# Export merged dataset\n",
    "df_merged.to_parquet(processed_dir / 'merged_openmeteo_pvgis.parquet')\n",
    "df_merged.to_csv(processed_dir / 'merged_openmeteo_pvgis.csv', index=False)\n",
    "\n",
    "print(\"✅ Clean datasets saved as both Parquet and CSV in data/processed/\")\n"
   ]
  }
 ],
 "metadata": {
  "kernelspec": {
   "display_name": "venv",
   "language": "python",
   "name": "python3"
  },
  "language_info": {
   "codemirror_mode": {
    "name": "ipython",
    "version": 3
   },
   "file_extension": ".py",
   "mimetype": "text/x-python",
   "name": "python",
   "nbconvert_exporter": "python",
   "pygments_lexer": "ipython3",
   "version": "3.12.6"
  }
 },
 "nbformat": 4,
 "nbformat_minor": 5
}
